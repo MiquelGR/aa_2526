{
 "cells": [
  {
   "cell_type": "markdown",
   "id": "836011f370280568",
   "metadata": {},
   "source": [
    "# Pràctica III - ``PyTorch``\n",
    "\n",
    "<a href=\"https://pytorch.org/\"> ![PyTorch](https://pypi-camo.freetls.fastly.net/ed3839e1c11e779b508097969affa63d0968692b/68747470733a2f2f6769746875622e636f6d2f7079746f7263682f7079746f7263682f7261772f6d61696e2f646f63732f736f757263652f5f7374617469632f696d672f7079746f7263682d6c6f676f2d6461726b2e706e67) </a>\n",
    "\n",
    "\n",
    "``PyTorch`` és una de les biblioteques més utilitzades actualment en l’àmbit de la intel·ligència artificial i l’aprenentatge automàtic. Desenvolupada inicialment per Facebook AI Research (FAIR), s’ha consolidat com una eina de referència per a investigadors i professionals gràcies a la seva flexibilitat, senzillesa d’ús i potència en el càlcul numèric.\n",
    "\n",
    "Una de les grans fortaleses de ``PyTorch`` és el seu model de gràfic dinàmic (define-by-run). Això significa que la definició del flux de càlcul es construeix i s’executa de manera simultània, cosa que facilita el desenvolupament i la depuració de models complexos. Aquesta flexibilitat contrasta amb altres marcs que utilitzen gràfics estàtics, i ha fet que ``PyTorch`` sigui especialment popular en la recerca acadèmica.\n",
    "\n",
    "En aquesta assignatura treballarem amb ``PyTorch`` per comprendre els fonaments de l’aprenentatge profund, implementar xarxes neuronals i experimentar amb diferents arquitectures.\n",
    "\n",
    "### Conceptes claus\n",
    "\n",
    "- Capa. Conjunt de perceptrons (neurones artificials) organitzats en paral·lel. Cada perceptró fa un càlcul sobre les entrades amb uns pesos i un biaix, i la capa combina totes aquestes sortides per generar la següent representació de les dades.\n",
    "- Funcions d’activació. Introdueixen no-linealitat en les capes de la xarxa. Sense elles, la xarxa seria només una combinació lineal de perceptrons i no podria aprendre patrons complexos. Exemples habituals són ReLU, Sigmoid i Tanh\n",
    "- Funció de pèrdua: mesura la diferència entre la sortida del model i la resposta desitjada; és la guia per saber si l’aprenentatge millora.\n",
    "- Backpropagation: procés que calcula els gradients de la pèrdua respecte als paràmetres de la xarxa per saber com ajustar-los.\n",
    "- Optimitzador: algoritme (com SGD o Adam) que actualitza els pesos de la xarxa segons els gradients, millorant progressivament el rendiment del model.\n",
    "\n",
    "\n",
    "## Exemple\n",
    "\n",
    "Entrenar i definir un model amb ``PyTorch`` és més complex que no amb ``scikit-learn``. Tot seguit un exemple amb dades sintètiques."
   ]
  },
  {
   "cell_type": "code",
   "execution_count": 1,
   "id": "f938c9d912b0d9b6",
   "metadata": {
    "ExecuteTime": {
     "end_time": "2025-10-01T08:39:46.326654Z",
     "start_time": "2025-10-01T08:39:44.489637Z"
    }
   },
   "outputs": [
    {
     "data": {
      "image/png": "[encoded data removed]",
      "text/plain": [
       "<Figure size 640x480 with 1 Axes>"
      ]
     },
     "metadata": {},
     "output_type": "display_data"
    }
   ],
   "source": [
    "import copy\n",
    "\n",
    "import matplotlib.pyplot as plt\n",
    "from sklearn.datasets import make_classification\n",
    "from sklearn.metrics import accuracy_score\n",
    "from sklearn.model_selection import train_test_split\n",
    "\n",
    "import torch\n",
    "import torch.nn as nn\n",
    "import torch.nn.functional as F\n",
    "\n",
    "# Generació del conjunt de mostres\n",
    "X, y = make_classification(n_samples=100, n_features=2, n_redundant=0, n_repeated=0,\n",
    "                           n_classes=2, n_clusters_per_class=1, class_sep=1.25,\n",
    "                           random_state=0)\n",
    "\n",
    "X_train, X_test, y_train, y_test = train_test_split(X, y, test_size=0.33, random_state=42)\n",
    "\n",
    "plt.figure(1)\n",
    "plt.scatter(X_train[:, 0], X_train[:, 1], c=(y_train==0))  # Mostram el conjunt de mostres el color indica la classe\n",
    "plt.show()"
   ]
  },
  {
   "cell_type": "markdown",
   "id": "93f6f510160ee6b8",
   "metadata": {},
   "source": [
    "### Definim el model\n",
    "\n",
    "En PyTorch, un model s’estructura com una classe que hereta de nn.Module. Aquesta classe conté:\n",
    "\n",
    "1. El constructor (__init__): on es defineixen les capes del model (per exemple, nn.Linear, nn.Conv2d, etc.).\n",
    "2. El mètode forward: que especifica com passen les dades a través de les capes i les funcions d’activació.\n",
    "\n",
    "Això permet encapsular l’arquitectura de la xarxa de manera clara i reutilitzable.\n",
    "\n",
    "Una capa lineal a PyTorch es defineix com:\n",
    "\n",
    "```python\n",
    "nn.Linear(in_features, out_features)\n",
    "```\n",
    "\n",
    "On:\n",
    "``in_features``, és el nombre de valors que rep cada neurona de la capa (dimensió de l’entrada).\n",
    "``out_features``, és el nombre de neurones de la capa (dimensió de la sortida).\n",
    "\n",
    "La regla bàsica és que el nombre de sortides (``out_features``) d’una capa ha de coincidir amb el nombre d’entrades (``in_features`) de la següent."
   ]
  },
  {
   "cell_type": "code",
   "execution_count": 2,
   "id": "bffe7f477f0e3d9b",
   "metadata": {
    "ExecuteTime": {
     "end_time": "2025-10-01T08:50:00.792572Z",
     "start_time": "2025-10-01T08:50:00.790110Z"
    }
   },
   "outputs": [],
   "source": [
    "class MLP(nn.Module):\n",
    "    def __init__(self):\n",
    "        super(MLP, self).__init__()\n",
    "        self.fc1 = nn.Linear(2, 1)\n",
    "\n",
    "    def forward(self, x):\n",
    "        x = self.fc1(x)  # Apply ReLU activation to hidden layer output\n",
    "        x = F.sigmoid(x)\n",
    "\n",
    "        return x"
   ]
  },
  {
   "cell_type": "markdown",
   "id": "b591f36e0e871098",
   "metadata": {},
   "source": [
    "### Entrenament\n",
    "\n",
    "Entrenar una xarxa neuronal com un MLP implica uns quants passos essencials: forward pass, càlcul de la pèrdua, backpropagation i actualització dels paràmetres. PyTorch ofereix una manera flexible i modular de gestionar aquest procés.\n",
    "\n",
    "---\n",
    "\n",
    "\n",
    "### 1. Escollir una funció de pèrdua\n",
    "\n",
    "La **funció de pèrdua** mesura la diferència entre les prediccions del model i les etiquetes reals.\n",
    "\n",
    "Per a tasques de classificació:\n",
    "\n",
    "```python\n",
    "criterion = nn.CrossEntropyLoss()\n",
    "```\n",
    "\n",
    "---\n",
    "\n",
    "### 2. Seleccionar un optimitzador\n",
    "\n",
    "Un optimitzador actualitza els paràmetres del model utilitzant els gradients calculats durant el backpropagation.\n",
    "\n",
    "Exemple amb descens estocàstic de gradient (SGD):\n",
    "\n",
    "```python\n",
    "optimizer = torch.optim.SGD(model.parameters(), lr=0.01)\n",
    "```\n",
    "\n",
    "**Adam**:\n",
    "```python\n",
    "optimizer = torch.optim.Adam(model.parameters(), lr=0.001)\n",
    "```\n",
    "\n",
    "---\n",
    "\n",
    "### 3. Bucle d’entrenament\n",
    "\n",
    "Aquest és el nucli del procés d’entrenament. Per a cada època (un recorregut complet pel conjunt de dades), es realitza:\n",
    "\n",
    "#### a. Forward Pass\n",
    "\n",
    "Es calculen les prediccions del model:\n",
    "\n",
    "```python\n",
    "outputs = model(inputs)\n",
    "```\n",
    "\n",
    "#### b. Funció de pèrdua\n",
    "Es calcula la distància entre les predicció i el *ground truth*:\n",
    "\n",
    "```python\n",
    "loss = criterion(outputs, targets)\n",
    "```\n",
    "\n",
    "#### c. Backward Pass\n",
    "Es calculen els gradients de la pèrdua respecte als paràmetres del model:\n",
    "\n",
    "```python\n",
    "loss.backward()\n",
    "```\n",
    "\n",
    "#### d. Actualització de paràmetres\n",
    "S’apliquen els gradients per actualitzar els paràmetres del model:\n",
    "```python\n",
    "optimizer.step()\n",
    "```\n",
    "\n",
    "#### e. Reiniciam els Gradients\n",
    "Netejam els gradients abans de la nova iteració:\n",
    "```python\n",
    "optimizer.zero_grad()\n",
    "```\n",
    "\n",
    "**Exemple tot junt**:\n",
    "```python\n",
    "for epoch in range(num_epochs):\n",
    "    outputs = model(inputs)\n",
    "    loss = criterion(outputs, targets)\n",
    "\n",
    "    optimizer.zero_grad()\n",
    "    loss.backward()\n",
    "    optimizer.step()\n",
    "```\n",
    "\n",
    "#### 4. Evaluació\n",
    "\n",
    "Una vegada entrenat volem avaluar el model amb el conjunt de validació. En aquest cas no volem guardar cap informació del gradient, per això emprarem la instrucció ``torch.no_grad()``.\n",
    "\n",
    "```python\n",
    "model.eval()\n",
    "with torch.no_grad():\n",
    "    predictions = model(test_inputs)\n",
    "```\n",
    "\n",
    "---\n",
    "\n",
    "## Resum\n",
    "\n",
    "| Pas                | Propòsit                                           |\n",
    "|--------------------|---------------------------------------------------|\n",
    "| Funció de pèrdua   | Mesurar l’error de predicció                      |\n",
    "| Optimitzador       | Actualitzar els pesos utilitzant els gradients   |\n",
    "| Forward Pass       | Predir les sortides                               |\n",
    "| Pèrdua + Backward  | Calcular els gradients                             |\n",
    "| Pas de l’optimitzador | Ajustar els pesos                               |\n",
    "| Zero Grad          | Evitar l’acumulació de gradients                  |\n",
    "| Avaluació          | Provar el rendiment sense calcular gradients      |\n",
    "\n"
   ]
  },
  {
   "cell_type": "code",
   "execution_count": 3,
   "id": "eb30db043f101391",
   "metadata": {
    "ExecuteTime": {
     "end_time": "2025-10-01T08:57:55.886709Z",
     "start_time": "2025-10-01T08:57:55.884175Z"
    }
   },
   "outputs": [],
   "source": [
    "LR = 1e-3\n",
    "EPOCHS = 1000\n",
    "\n",
    "criterion = nn.BCELoss()"
   ]
  },
  {
   "cell_type": "code",
   "execution_count": 4,
   "id": "c11d9eb23740128c",
   "metadata": {
    "ExecuteTime": {
     "end_time": "2025-10-01T09:07:38.443655Z",
     "start_time": "2025-10-01T09:07:38.070437Z"
    }
   },
   "outputs": [
    {
     "data": {
      "text/plain": [
       "<All keys matched successfully>"
      ]
     },
     "execution_count": 4,
     "metadata": {},
     "output_type": "execute_result"
    }
   ],
   "source": [
    "best_acc = 0\n",
    "best_weights = None\n",
    "\n",
    "losses = []\n",
    "accuracy = []\n",
    "\n",
    "net = MLP()\n",
    "optimizer = torch.optim.Adam(net.parameters(), lr=LR)\n",
    "\n",
    "for epoch in range(EPOCHS):\n",
    "    net.train()\n",
    "    output = net(torch.Tensor(X_train))\n",
    "    loss = criterion(output, torch.Tensor(y_train).reshape(-1, 1))\n",
    "\n",
    "    losses.append(loss.detach().numpy())\n",
    "\n",
    "    loss.backward()\n",
    "    optimizer.step()\n",
    "\n",
    "    net.eval()\n",
    "    output_val = net(torch.Tensor(X_test))\n",
    "\n",
    "    acc = accuracy_score(y_train, (output.detach() > 0.5).int())\n",
    "    acc_val = accuracy_score(y_test, (output_val.detach() > 0.5).int())\n",
    "\n",
    "    if acc_val > best_acc:\n",
    "        best_acc = acc\n",
    "        best_weights = copy.deepcopy(net.state_dict())\n",
    "\n",
    "    accuracy.append(acc_val)\n",
    "net.load_state_dict(best_weights)"
   ]
  },
  {
   "cell_type": "code",
   "execution_count": 12,
   "id": "38f1f372",
   "metadata": {},
   "outputs": [
    {
     "name": "stdout",
     "output_type": "stream",
     "text": [
      "accuracy:  0.9552238805970149\n",
      "Pesos:  OrderedDict({'fc1.weight': tensor([[0.2650, 1.9103]]), 'fc1.bias': tensor([-0.8710])})\n"
     ]
    }
   ],
   "source": [
    "print(\"accuracy: \", best_acc)\n",
    "print(\"Pesos: \", best_weights)\n"
   ]
  },
  {
   "cell_type": "markdown",
   "id": "be00057761220c69",
   "metadata": {},
   "source": [
    "## Tasca a fer\n",
    "\n",
    "1. Modificar el model per afegir dues capes més lineals. Millora els resultats respecte el perceptró?\n",
    "2. Entrenar un model amb el conjunt de dades del Titanic que vàrem treballar a la sessió anterior."
   ]
  },
  {
   "cell_type": "code",
   "execution_count": 13,
   "id": "e0146b1eec906342",
   "metadata": {},
   "outputs": [
    {
     "name": "stdout",
     "output_type": "stream",
     "text": [
      "accuracy:  0.9701492537313433\n",
      "Pesos:  OrderedDict({'layerEntries.weight': tensor([[ 0.1840,  0.3274],\n",
      "        [-0.5976, -0.2148],\n",
      "        [-0.2190,  0.2167],\n",
      "        [ 0.6838,  0.2938],\n",
      "        [ 0.5029, -0.3199],\n",
      "        [ 0.5903, -0.1378],\n",
      "        [ 0.4020,  0.5882],\n",
      "        [-0.1442, -0.0672]]), 'layerEntries.bias': tensor([ 0.0661, -0.0224,  0.5402,  0.7612,  0.1823,  0.1740,  0.7199, -0.1070]), 'hl1.weight': tensor([[-0.1508, -0.0362,  0.0899, -0.1759, -0.0681, -0.2366, -0.0838,  0.1888],\n",
      "        [-0.3587,  0.3449, -0.1523,  0.1090, -0.1066,  0.3381,  0.1392, -0.0971],\n",
      "        [ 0.1072,  0.1312, -0.1359, -0.3030,  0.1824, -0.1900,  0.2086, -0.1579],\n",
      "        [-0.2287,  0.4358, -0.1865,  0.0900,  0.0693,  0.3599, -0.2678,  0.3933]]), 'hl1.bias': tensor([-0.0997,  0.1495,  0.3713, -0.0478]), 'layerOutput.weight': tensor([[ 0.1928, -0.1592, -0.3304, -0.1944]]), 'layerOutput.bias': tensor([0.0704])})\n"
     ]
    }
   ],
   "source": [
    "class new_MLP(nn.Module):\n",
    "    def __init__(self):\n",
    "        super(new_MLP, self).__init__()\n",
    "        self.layerEntries = nn.Linear(2, 8)\n",
    "        self.hl1 = nn.Linear(8, 4)\n",
    "        self.layerOutput = nn.Linear(4, 1)\n",
    "\n",
    "    def forward(self, x):\n",
    "        x = self.layerEntries(x)  \n",
    "        x = self.hl1(x)  \n",
    "        x = self.layerOutput(x)  # Apply ReLU activation to hidden layer output\n",
    "        x = F.sigmoid(x)\n",
    "\n",
    "        return x\n",
    "    \n",
    "\n",
    "best_acc_newMLP = 0\n",
    "best_weights_newMLP = None\n",
    "\n",
    "losses_newMLP  = []\n",
    "accuracy_newMLP  = []\n",
    "\n",
    "net = new_MLP()\n",
    "optimizer = torch.optim.Adam(net.parameters(), lr=LR)\n",
    "\n",
    "for epoch in range(EPOCHS):\n",
    "    net.train()\n",
    "    output = net(torch.Tensor(X_train))\n",
    "    loss = criterion(output, torch.Tensor(y_train).reshape(-1, 1))\n",
    "\n",
    "    losses_newMLP.append(loss.detach().numpy())\n",
    "\n",
    "    loss.backward()\n",
    "    optimizer.step()\n",
    "\n",
    "    net.eval()\n",
    "    output_val = net(torch.Tensor(X_test))\n",
    "\n",
    "    acc = accuracy_score(y_train, (output.detach() > 0.5).int())\n",
    "    acc_val = accuracy_score(y_test, (output_val.detach() > 0.5).int())\n",
    "\n",
    "    if acc_val > best_acc_newMLP :\n",
    "        best_acc_newMLP  = acc\n",
    "        best_weights_newMLP  = copy.deepcopy(net.state_dict())\n",
    "\n",
    "    accuracy_newMLP.append(acc_val)\n",
    "net.load_state_dict(best_weights_newMLP)\n",
    "\n",
    "print(\"accuracy: \", best_acc_newMLP)\n",
    "print(\"Pesos: \", best_weights_newMLP)\n"
   ]
  }
 ],
 "metadata": {
  "kernelspec": {
   "display_name": "Python 3",
   "language": "python",
   "name": "python3"
  },
  "language_info": {
   "codemirror_mode": {
    "name": "ipython",
    "version": 3
   },
   "file_extension": ".py",
   "mimetype": "text/x-python",
   "name": "python",
   "nbconvert_exporter": "python",
   "pygments_lexer": "ipython3",
   "version": "3.12.1"
  }
 },
 "nbformat": 4,
 "nbformat_minor": 5
}
